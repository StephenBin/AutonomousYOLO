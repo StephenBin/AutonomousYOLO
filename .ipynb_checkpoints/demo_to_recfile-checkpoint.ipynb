{
 "cells": [
  {
   "cell_type": "code",
   "execution_count": 1,
   "metadata": {},
   "outputs": [
    {
     "name": "stderr",
     "output_type": "stream",
     "text": [
      "F:\\Programsl\\Anaconda3\\lib\\site-packages\\urllib3\\contrib\\pyopenssl.py:46: DeprecationWarning: OpenSSL.rand is deprecated - you should use os.urandom instead\n",
      "  import OpenSSL.SSL\n"
     ]
    }
   ],
   "source": [
    "import mxnet as mx\n",
    "import numpy as np\n",
    "import json\n",
    "import cv2\n"
   ]
  },
  {
   "cell_type": "code",
   "execution_count": 2,
   "metadata": {
    "collapsed": true
   },
   "outputs": [],
   "source": [
    "trainDATA_path = \"trainDATA/training/\"\n",
    "idlFile_path = \"trainDATA/training/label.idl\"\n",
    "save_path = \"trainDATA/training/label.npy\""
   ]
  },
  {
   "cell_type": "code",
   "execution_count": 3,
   "metadata": {
    "collapsed": true
   },
   "outputs": [],
   "source": [
    "# idl to numpy (.npy file)\n",
    "def idltonumpy(idlfile,savepath):\n",
    "    label_np = {}\n",
    "    with open(idlFile_path) as f:\n",
    "        for line in f:\n",
    "            jsonload = json.loads(line) # type(line): str  type(jsonload):dir\n",
    "            assert len(jsonload.keys()) ==1, \"only one image per json file\"\n",
    "            label_np[list(jsonload.keys())[0]] = jsonload[list(jsonload.keys())[0]]\n",
    "    np.save(save_path,label_np) \n",
    "    return label_np"
   ]
  },
  {
   "cell_type": "code",
   "execution_count": 4,
   "metadata": {
    "collapsed": true
   },
   "outputs": [],
   "source": [
    "# box:[lelf_up_x,lelf_up_y,lelf_down_x,lelf_dowm_y]\n",
    "# to box:[center_x,center_y,width,high] in pixel\n",
    "def xy2wh(idlnpy):\n",
    "    labelwh = {}\n",
    "    for key in idlnpy.keys():\n",
    "        boxxy = idlnpy[key]\n",
    "        boxeswh = []\n",
    "        for each in boxxy:\n",
    "            x1, y1, x2, y2, idx = each\n",
    "            cx = int((x2+x1)/2)\n",
    "            cy = int((y1+y2)/2)\n",
    "            w = int(x2-x1)\n",
    "            h = int(y2-y1)\n",
    "            # one-hod encoding\n",
    "            cls = [0,0,0,0]\n",
    "            if idx==1:\n",
    "                cls[0]=1\n",
    "            elif idx==2:\n",
    "                cls[1]=1\n",
    "            elif idx==3:\n",
    "                cls[2]=1\n",
    "            elif idx==20:\n",
    "                cls[3]=1\n",
    "            else:\n",
    "                print(idx)\n",
    "                print(\"Not expected value\")\n",
    "                break\n",
    "            assert w>0 and h>0, \"wh should be > 0\"\n",
    "            box = [cx, cy, w, h] + cls\n",
    "            boxeswh.append(box)\n",
    "        labelwh[key] = boxeswh\n",
    "    return labelwh\n"
   ]
  },
  {
   "cell_type": "code",
   "execution_count": 7,
   "metadata": {
    "collapsed": true
   },
   "outputs": [],
   "source": [
    "# Convert data to rec file\n",
    "# Get Yolo x and y\n",
    "def get_YOLO_xy(bxy, grid_size=(7,7), dscale=32, sizet=224):\n",
    "    cx, cy = bxy\n",
    "    assert cx<=1 and cy<=1, \"All should be < 1, but get {}, and {}\".format(cx,cy)\n",
    "\n",
    "    j = int(np.floor(cx/(1.0/grid_size[0])))\n",
    "    i = int(np.floor(cy/(1.0/grid_size[1])))\n",
    "    xyolo = (cx * sizet - j * dscale) / dscale\n",
    "    yyolo = (cy * sizet - i * dscale) / dscale\n",
    "    return [i, j, xyolo, yyolo]\n",
    "\n",
    "# Get YOLO label\n",
    "def imgResizeBBoxTransform(img, bbox, sizet, grid_size=(7,7,5), dscale=32):\n",
    "\n",
    "    himg, wimg = img.shape[:2]\n",
    "    imgR = cv2.resize(img, dsize=(sizet, sizet))\n",
    "    bboxyolo = np.zeros(grid_size)\n",
    "    for eachbox in bbox:\n",
    "        cx, cy, w, h = eachbox[:4]\n",
    "        cls = eachbox[4:]\n",
    "        cxt = 1.0*cx/wimg\n",
    "        cyt = 1.0*cy/himg\n",
    "        wt = 1.0*w/wimg\n",
    "        ht = 1.0*h/himg\n",
    "        assert wt<1 and ht<1\n",
    "        i, j, xyolo, yyolo = get_YOLO_xy([cxt, cyt], grid_size, dscale, sizet)\n",
    "        #print \"one yolo box is {}\".format((i, j, xyolo, yyolo, wt, ht))\n",
    "        label_vec = np.asarray([1, xyolo, yyolo, wt, ht]+cls)\n",
    "        print(label_vec)\n",
    "        #print \"Final yolo box is {}\".format(label_vec)\n",
    "        bboxyolo[i, j, :] = label_vec\n",
    "    return imgR, bboxyolo\n",
    "\n",
    "# Conver raw image to rec files\n",
    "def toRecFile(imgroot,imglist,annotation,sizet,grid_size,descale):\n",
    "    recF_name = \"DATA_rec/drive_small\"\n",
    "    record = mx.recordio.MXIndexedRecordIO(recF_name+\".idx\",recF_name+\".rec\",'w')\n",
    "    for i in range(len(imglist)):\n",
    "        imgname = imglist[i]\n",
    "        img = cv2.imread(imgroot+imgname)\n",
    "        \n",
    "        bbox = annotation[imgname]\n",
    "        print(\"Now is processing img {}\".format(imgname))\n",
    "        imgR,bboxR = imgResizeBBoxTransform(img,bbox,224,(7,7,9),32)\n",
    "        print(imgR.shape)\n",
    "        header = mx.recordio.IRHeader(flag=0, label=bboxR.flatten(), id=0, id2=0)\n",
    "        s = mx.recordio.pack_img(header, imgR, quality=100, img_fmt='.jpg')\n",
    "        record.write_idx(i,s)\n",
    "    print(\"JPG to rec is Done\")\n",
    "    record.close()   "
   ]
  },
  {
   "cell_type": "code",
   "execution_count": 8,
   "metadata": {},
   "outputs": [
    {
     "name": "stdout",
     "output_type": "stream",
     "text": [
      "10000\n",
      "[('60091.jpg', [[237, 208, 46, 31, 1, 0, 0, 0], [149, 213, 149, 106, 1, 0, 0, 0]]), ('60092.jpg', [[47, 215, 64, 36, 1, 0, 0, 0], [68, 235, 33, 39, 0, 0, 1, 0]]), ('60093.jpg', []), ('60094.jpg', [[207, 214, 72, 52, 1, 0, 0, 0]]), ('60095.jpg', []), ('60096.jpg', []), ('60097.jpg', []), ('60098.jpg', []), ('60099.jpg', []), ('60100.jpg', [[295, 204, 25, 22, 0, 0, 1, 0]])]\n",
      "Now is processing img 60091.jpg\n",
      "[ 1.          0.5921875   0.04444444  0.071875    0.08611111  1.          0.\n",
      "  0.          0.        ]\n",
      "[ 1.          0.6296875   0.14166667  0.2328125   0.29444444  1.          0.\n",
      "  0.          0.        ]\n",
      "(224, 224, 3)\n",
      "Now is processing img 60092.jpg\n",
      "[ 1.          0.5140625   0.18055556  0.1         0.1         1.          0.\n",
      "  0.          0.        ]\n",
      "[ 1.          0.74375     0.56944444  0.0515625   0.10833333  0.          0.\n",
      "  1.          0.        ]\n",
      "(224, 224, 3)\n",
      "Now is processing img 60093.jpg\n",
      "(224, 224, 3)\n",
      "Now is processing img 60094.jpg\n",
      "[ 1.          0.2640625   0.16111111  0.1125      0.14444444  1.          0.\n",
      "  0.          0.        ]\n",
      "(224, 224, 3)\n",
      "Now is processing img 60095.jpg\n",
      "(224, 224, 3)\n",
      "Now is processing img 60096.jpg\n",
      "(224, 224, 3)\n",
      "Now is processing img 60097.jpg\n",
      "(224, 224, 3)\n",
      "Now is processing img 60098.jpg\n",
      "(224, 224, 3)\n",
      "Now is processing img 60099.jpg\n",
      "(224, 224, 3)\n",
      "Now is processing img 60100.jpg\n",
      "[ 1.          0.2265625   0.96666667  0.0390625   0.06111111  0.          0.\n",
      "  1.          0.        ]\n",
      "(224, 224, 3)\n",
      "JPG to rec is Done\n"
     ]
    }
   ],
   "source": [
    "label_np = idltonumpy(idlFile_path,save_path)\n",
    "len(label_np.keys())\n",
    "\n",
    "labelwh = xy2wh(label_np)\n",
    "print(len(labelwh.keys()))\n",
    "print(list(labelwh.items())[:10])\n",
    "\n",
    "imglist = list(label_np.keys())[:10]\n",
    "sizet = 224\n",
    "grid_size = (7,7,9)\n",
    "descale  =32\n",
    "toRecFile(trainDATA_path,imglist,labelwh,sizet,grid_size,descale)"
   ]
  },
  {
   "cell_type": "code",
   "execution_count": null,
   "metadata": {
    "collapsed": true
   },
   "outputs": [],
   "source": []
  }
 ],
 "metadata": {
  "kernelspec": {
   "display_name": "Python 3",
   "language": "python",
   "name": "python3"
  },
  "language_info": {
   "codemirror_mode": {
    "name": "ipython",
    "version": 3
   },
   "file_extension": ".py",
   "mimetype": "text/x-python",
   "name": "python",
   "nbconvert_exporter": "python",
   "pygments_lexer": "ipython3",
   "version": "3.6.3"
  }
 },
 "nbformat": 4,
 "nbformat_minor": 2
}
