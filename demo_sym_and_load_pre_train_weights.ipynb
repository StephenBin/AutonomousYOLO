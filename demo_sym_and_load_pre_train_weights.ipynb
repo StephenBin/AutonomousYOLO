{
 "cells": [
  {
   "cell_type": "code",
   "execution_count": 1,
   "metadata": {},
   "outputs": [
    {
     "name": "stderr",
     "output_type": "stream",
     "text": [
      "F:\\Programsl\\Anaconda3\\lib\\site-packages\\urllib3\\contrib\\pyopenssl.py:46: DeprecationWarning: OpenSSL.rand is deprecated - you should use os.urandom instead\n",
      "  import OpenSSL.SSL\n"
     ]
    }
   ],
   "source": [
    "import mxnet as mx\n",
    "from Symbol.symbol import get_resnet_model_YoloV1"
   ]
  },
  {
   "cell_type": "code",
   "execution_count": 2,
   "metadata": {},
   "outputs": [],
   "source": [
    "sym = get_resnet_model_YoloV1(\"pretrained_models/resnet-34\", 0)\n",
    "_, args_params, aux_params = mx.model.load_checkpoint(\"pretrained_models/resnet-34\", 0)\n",
    "logit = sym.get_internals()['logit_output']   #(-1,7,7,9)\n",
    "#logit.infer_shape(data=(13,3,224,224))\n",
    "#mx.viz.plot_network(logit)"
   ]
  },
  {
   "cell_type": "code",
   "execution_count": 3,
   "metadata": {},
   "outputs": [],
   "source": [
    "train_data = mx.io.ImageRecordIter(path_imgrec='DATA_rec/drive_small.rec',\n",
    "                             data_shape=(3,224,224),\n",
    "                             label_width=7*7*9, \n",
    "                             batch_size=2,)\n",
    "val_data = mx.io.ImageRecordIter(path_imgrec='DATA_rec/drive_small.rec',\n",
    "                             data_shape=(3,224,224),\n",
    "                             label_width=7*7*9, \n",
    "                             batch_size=2,)\n"
   ]
  },
  {
   "cell_type": "code",
   "execution_count": 5,
   "metadata": {
    "collapsed": true
   },
   "outputs": [],
   "source": [
    "mod = mx.mod.Module(symbol=sym,context =mx.cpu())\n",
    "# bind data to symbol\n",
    "mod.bind(train_data.provide_data, train_data.provide_label)\n",
    "mod.init_params(allow_missing=True, arg_params=args_params, aux_params=aux_params, \n",
    "                initializer=mx.init.Xavier(magnitude=2,rnd_type='gaussian',factor_type='in'))"
   ]
  },
  {
   "cell_type": "code",
   "execution_count": 10,
   "metadata": {},
   "outputs": [
    {
     "name": "stdout",
     "output_type": "stream",
     "text": [
      "<class 'list'>\n"
     ]
    }
   ],
   "source": [
    "#predict test\n",
    "out = mod.predict(eval_data=train_data, num_batch=1)\n",
    "print(type(out))"
   ]
  },
  {
   "cell_type": "code",
   "execution_count": 13,
   "metadata": {},
   "outputs": [
    {
     "name": "stdout",
     "output_type": "stream",
     "text": [
      "(2, 49, 1)\n"
     ]
    }
   ],
   "source": [
    "print(out[0].shape)"
   ]
  },
  {
   "cell_type": "code",
   "execution_count": null,
   "metadata": {
    "collapsed": true
   },
   "outputs": [],
   "source": [
    "# sym, args_params, aux_params = mx.model.load_checkpoint(\"pretrained_models/resnet-34\", 0)\n",
    "# #mx.viz.plot_network(sym)\n",
    "# #sym.infer_shape(data=(13,3,224,224))\n",
    "# _,args_params,aux_params = mx.model\n",
    "# test = sym.get_internals()['bn1_output']   #(-1,2048,7,7)\n",
    "# test.infer_shape(data=(13,3,224,224))"
   ]
  },
  {
   "cell_type": "code",
   "execution_count": null,
   "metadata": {
    "collapsed": true
   },
   "outputs": [],
   "source": []
  },
  {
   "cell_type": "code",
   "execution_count": null,
   "metadata": {
    "collapsed": true
   },
   "outputs": [],
   "source": [
    "\n",
    "# a = mx.sym.var('a')\n",
    "# b = mx.sym.var('b')\n",
    "# c = a+b\n",
    "# d = mx.sym.var('d')\n",
    "# f= c+d\n",
    "# mx.viz.plot_network(f)\n",
    "# print(f.infer_shape(a=(2,3)))\n",
    "# mx.viz.plot_network(f)"
   ]
  },
  {
   "cell_type": "code",
   "execution_count": null,
   "metadata": {
    "collapsed": true
   },
   "outputs": [],
   "source": [
    "# def conv_layer(l,n_filter,if_pool=False):\n",
    "#     \"\"\"\n",
    "#     :return: a single convolution layer symbol\n",
    "#     \"\"\"\n",
    "#     # todo: Design the simplest convolution layer\n",
    "#     # Find the doc of mx.sym.Convolution by help command\n",
    "#     # Do you need BatchNorm?\n",
    "#     # Do you need pooling?\n",
    "#     # What is the expected output shape?\n",
    "#     l = mx.sym.Convolution(data=l,kernel=(3,3),stride=(1,1),pad=(1,1),\n",
    "#                            num_filter=n_filter,no_bias=True)\n",
    "#     l = mx.sym.BatchNorm(data=l)\n",
    "#     l = mx.sym.Activation(data=l,act_type='relu')\n",
    "#     if if_pool:\n",
    "#         l = mx.sym.Pooling(data=l,pool_type='max',kernel=(2,2),stride=(2,2))\n",
    "\n",
    "#     return l\n",
    "# def get_conv_sym():\n",
    "\n",
    "#     \"\"\"\n",
    "#     :return: symbol of a convolutional neural network\n",
    "#     \"\"\"\n",
    "#     data = mx.sym.Variable(\"data\")\n",
    "#     # todo: design the CNN architecture\n",
    "#     # How deep the network do you want? like 4 or 5\n",
    "#     # How wide the network do you want? like 32/64/128 kernels per layer\n",
    "#     # How is the convolution like? Normal CNN? Inception Module? VGG like?\n",
    "#     l = conv_layer(data,20,if_pool=True)\n",
    "#     l = conv_layer(l, 12,if_pool=True)\n",
    "#     #l = conv_layer(l, 5,if_pool=True)\n",
    "\n",
    "#     # fully connceterd layer\n",
    "#     l = mx.sym.FullyConnected(data=l, num_hidden=10)\n",
    "#     # Softmax with cross entropy loss\n",
    "#     mlp = mx.sym.SoftmaxOutput(data=l, name='softmax')\n",
    "#     return mlp\n",
    "# cnn = get_conv_sym()\n",
    "# # plot = mx.viz.plot_network(cnn,title='cnn',save_format='pdf',hide_weights=True)\n",
    "# # plot.render(\"cnn\")\n",
    "# mx.viz.plot_network(cnn)"
   ]
  },
  {
   "cell_type": "code",
   "execution_count": null,
   "metadata": {
    "collapsed": true
   },
   "outputs": [],
   "source": [
    "# cnn.infer_shape(data=(13,3,32,32))"
   ]
  },
  {
   "cell_type": "code",
   "execution_count": null,
   "metadata": {
    "collapsed": true
   },
   "outputs": [],
   "source": [
    "# test =cnn.get_internals()['batchnorm0_output']\n",
    "# test.infer_shape(data=(13,3,32,32))"
   ]
  },
  {
   "cell_type": "code",
   "execution_count": null,
   "metadata": {
    "collapsed": true
   },
   "outputs": [],
   "source": []
  }
 ],
 "metadata": {
  "kernelspec": {
   "display_name": "Python 3",
   "language": "python",
   "name": "python3"
  },
  "language_info": {
   "codemirror_mode": {
    "name": "ipython",
    "version": 3
   },
   "file_extension": ".py",
   "mimetype": "text/x-python",
   "name": "python",
   "nbconvert_exporter": "python",
   "pygments_lexer": "ipython3",
   "version": "3.6.3"
  }
 },
 "nbformat": 4,
 "nbformat_minor": 2
}
