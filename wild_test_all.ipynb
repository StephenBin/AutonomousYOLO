{
 "cells": [
  {
   "cell_type": "code",
   "execution_count": null,
   "metadata": {},
   "outputs": [],
   "source": [
    "import mxnet as mx\n",
    "import numpy as np\n",
    "\n",
    "import matplotlib.pyplot as plt\n",
    "import matplotlib.patches as patches\n",
    "from Symbol.symbol import get_resnet_model_YoloV1\n",
    "from Symbol.symbol import Yolo_loss\n",
    "\n",
    "import cv2"
   ]
  },
  {
   "cell_type": "code",
   "execution_count": null,
   "metadata": {
    "collapsed": true
   },
   "outputs": [],
   "source": [
    "def decodeBox(yolobox, size, dscale):\n",
    "    i, j, cx, cy, w, h, cls1, cls2, cls3, cls4 = yolobox\n",
    "    cxt = j*dscale + cx*dscale\n",
    "    cyt = i*dscale + cy*dscale\n",
    "    wt = w*size\n",
    "    ht = h*size\n",
    "    # true location in image\n",
    "    cls_index = np.argmax([cls1, cls2, cls3, cls4])\n",
    "\n",
    "    if cls_index==0:\n",
    "        cls=1\n",
    "    elif cls_index==1:\n",
    "        cls=2\n",
    "    elif cls_index==2:\n",
    "        cls=3\n",
    "    elif cls_index==3:\n",
    "        cls=20\n",
    "    return [cxt, cyt, wt, ht, cls]\n",
    "\n",
    "def bboxdraw(img, label, dscale=32):\n",
    "    assert label.shape == (7,7,9)\n",
    "    size = img.shape[1]\n",
    "    ilist, jlist = np.where(label[:,:,0]>0.5)\n",
    "  \n",
    "    \n",
    "    # Create figure and axes\n",
    "    fig,ax = plt.subplots(1)\n",
    "    ax.imshow(np.uint8(img))\n",
    "    bbox_list=[]\n",
    "    for i,j in zip(ilist, jlist): \n",
    "        cx,cy,w,h,cls1, cls2, cls3, cls4 = label[i,j,1:]\n",
    "        cxt, cyt, wt ,ht, cls = decodeBox([i, j, cx,cy,w,h,cls1, cls2, cls3, cls4], size, dscale)\n",
    "        prob = label[i,j,0]\n",
    "        bbox_list.append([cxt, cyt, wt ,ht, cls,prob])\n",
    "        \n",
    "        # Create a Rectangle patch\n",
    "        rect = patches.Rectangle((cxt-wt/2,cyt-ht/2), wt,ht,linewidth=1,edgecolor='r',facecolor='none')\n",
    "\n",
    "        # Add the patch to the Axes\n",
    "        ax.add_patch(rect)\n",
    "    \n",
    "        name=\"unkown\"\n",
    "        if cls==1:\n",
    "            name=\"{}\".format(int(prob*100)/100)+\"car\"\n",
    "        elif cls==2:\n",
    "            name=\"{}\".format(int(prob*100)/100)+\"pedestrian\"\n",
    "        elif cls==3:\n",
    "            name=\"{}\".format(int(prob*100)/100)+\"cyclist\"\n",
    "        elif cls==20:\n",
    "            name=\"{}\".format(int(prob*100)/100)+\"traffic lights\"\n",
    "        print(name)\n",
    "\n",
    "\n",
    "        plt.text(x=int(cxt-wt/2), y=int(cyt-ht/2), s=str(name), bbox=dict(facecolor='red', alpha=0.5))\n",
    "    plt.show()\n",
    "    return np.float64(bbox_list).tolist()"
   ]
  },
  {
   "cell_type": "code",
   "execution_count": null,
   "metadata": {},
   "outputs": [],
   "source": [
    "imglist = []\n",
    "for i in range(2000):\n",
    "    imglist.append(\"{}\".format(70091+i)+\".jpg\")\n",
    "print(len(imglist))\n",
    "print(imglist[:5])"
   ]
  },
  {
   "cell_type": "code",
   "execution_count": null,
   "metadata": {},
   "outputs": [],
   "source": [
    "# get sym\n",
    "sym, args_params, aux_params = mx.model.load_checkpoint(\"models/drive_detect\", 9365)\n",
    "logit = sym.get_internals()['logit_output']   #(-1,7,7,9)\n",
    "#logit.infer_shape(data=(13,3,224,224))\n",
    "#mx.viz.plot_network(logit,shape={\"data\":(13,3,224,256)})\n",
    "mod = mx.mod.Module(symbol=logit,context =mx.cpu())\n",
    "data_shape=[('data', (1,3,224,224))]\n",
    "mod.bind(data_shapes=data_shape)\n",
    "mod.init_params(allow_missing=False, arg_params=args_params, aux_params=aux_params)\n",
    "\n",
    "    #predict test"
   ]
  },
  {
   "cell_type": "code",
   "execution_count": null,
   "metadata": {},
   "outputs": [],
   "source": [
    "test_data_path = \"testDATA/testing/\"\n",
    "test_result={}\n",
    "for i in imglist:\n",
    "    print(i)\n",
    "    img_test = plt.imread(test_data_path+i)\n",
    "#     plt.imshow(img_test)\n",
    "#     plt.show()\n",
    "#     print(\"orignal Img\")\n",
    "#     print(img_test.shape)\n",
    "    W = 224\n",
    "    H = 224\n",
    "    img_test_resize = cv2.resize(img_test,(W,H))\n",
    "#     plt.imshow(img_test_resize)\n",
    "#     print(\"Resize Img:\",i)\n",
    "#     plt.show()\n",
    "    \n",
    "    # prediction:\n",
    "    img_test_nd = mx.nd.array(ctx=mx.cpu(),source_array =img_test_resize.transpose((2,0,1)).reshape(1,3,H,W))\n",
    "    img_itr = mx.io.NDArrayIter(data =img_test_nd,data_name=\"data\",batch_size=1)\n",
    "    # bind data to symbol\n",
    "#     mod.bind(img_itr.provide_data)\n",
    "#     mod.init_params(allow_missing=False, arg_params=args_params, aux_params=aux_params)\n",
    "    #predict test\n",
    "    # out = mod.predict(eval_data=train_data, num_batch=3)\n",
    "    out = mod.predict(eval_data=img_itr)\n",
    "    #pred->softsing->x/(1+abs(x))\n",
    "    pred = (out.asnumpy()[0]+1)/2\n",
    "#     print(pred.shape)\n",
    "#     print(pred)\n",
    "    bbox_list=bboxdraw(img_test_resize,pred)\n",
    "#     print(bbox_list)\n",
    "    test_result[i] =bbox_list\n",
    "\n",
    "    "
   ]
  },
  {
   "cell_type": "code",
   "execution_count": null,
   "metadata": {
    "collapsed": true
   },
   "outputs": [],
   "source": [
    "import json\n",
    "json = json.dumps(test_result)\n",
    "f = open(\"test_result.json\",\"w\")\n",
    "f.write(json)\n",
    "f.close()\n",
    "\n",
    "# import json\n",
    " \n",
    "# dict = {'Python' : '.py', 'C++' : '.cpp', 'Java' : '.java'}\n",
    " \n",
    "# json = json.dumps(dict)\n",
    "# f = open(\"dict.json\",\"w\")\n",
    "# f.write(json)\n",
    "# f.close()\n",
    "\n",
    "# print(test_result)"
   ]
  },
  {
   "cell_type": "code",
   "execution_count": null,
   "metadata": {
    "collapsed": true
   },
   "outputs": [],
   "source": []
  }
 ],
 "metadata": {
  "kernelspec": {
   "display_name": "Python 3",
   "language": "python",
   "name": "python3"
  },
  "language_info": {
   "codemirror_mode": {
    "name": "ipython",
    "version": 3
   },
   "file_extension": ".py",
   "mimetype": "text/x-python",
   "name": "python",
   "nbconvert_exporter": "python",
   "pygments_lexer": "ipython3",
   "version": "3.6.3"
  }
 },
 "nbformat": 4,
 "nbformat_minor": 2
}
